{
 "cells": [
  {
   "cell_type": "code",
   "execution_count": 1,
   "id": "5e2245e9",
   "metadata": {},
   "outputs": [],
   "source": [
    "import pandas as pd"
   ]
  },
  {
   "cell_type": "code",
   "execution_count": 2,
   "id": "8868b52f",
   "metadata": {},
   "outputs": [],
   "source": [
    "data = pd.read_csv(\"top_movies_imdb.csv\")"
   ]
  },
  {
   "cell_type": "code",
   "execution_count": 3,
   "id": "53a89757",
   "metadata": {},
   "outputs": [],
   "source": [
    "df = pd.DataFrame(data)\n",
    "\n",
    "df.rename(columns={\n",
    "    'Título': 'Title',\n",
    "    'Ano': 'Year',\n",
    "    'Nota IMDb': 'IMDb Rating',  \n",
    "    'Gêneros': 'Genres',        \n",
    "    'Sinopse': 'Synopsis',  \n",
    "    'Elenco Principal': 'Main Cast'  \n",
    "}, inplace=True)"
   ]
  },
  {
   "cell_type": "code",
   "execution_count": 4,
   "id": "e613572f",
   "metadata": {},
   "outputs": [],
   "source": [
    "df_sorted = df.sort_values(by=['Title', 'Year'], ascending=[True, False],  key=lambda x: x.str.lower() if x.name == 'Title' else x).reset_index(drop=True)"
   ]
  },
  {
   "cell_type": "code",
   "execution_count": 9,
   "id": "a20a64be",
   "metadata": {},
   "outputs": [],
   "source": [
    "df_processed = df.replace('N/A', '-').fillna('-')"
   ]
  },
  {
   "cell_type": "code",
   "execution_count": 10,
   "id": "17f1d72e",
   "metadata": {},
   "outputs": [
    {
     "name": "stdout",
     "output_type": "stream",
     "text": [
      "File saved as 'processed_data.xlsx'!\n"
     ]
    }
   ],
   "source": [
    "output_filename = \"processed_data.xlsx\"\n",
    "\n",
    "df_processed.to_excel(output_filename, index=False)\n",
    "\n",
    "print(f\"File saved as '{output_filename}'!\")"
   ]
  }
 ],
 "metadata": {
  "kernelspec": {
   "display_name": "Python 3",
   "language": "python",
   "name": "python3"
  },
  "language_info": {
   "codemirror_mode": {
    "name": "ipython",
    "version": 3
   },
   "file_extension": ".py",
   "mimetype": "text/x-python",
   "name": "python",
   "nbconvert_exporter": "python",
   "pygments_lexer": "ipython3",
   "version": "3.13.5"
  }
 },
 "nbformat": 4,
 "nbformat_minor": 5
}
